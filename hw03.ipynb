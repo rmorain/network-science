{
 "cells": [
  {
   "cell_type": "code",
   "execution_count": 22,
   "metadata": {},
   "outputs": [],
   "source": [
    "#########################################\n",
    "# Practicing with the SIR differential equation model using simple numerical integration\n",
    "#\n",
    "# Michael Goodrich\n",
    "# Brigham Young University\n",
    "# CS 575 -- winter 2022, updated for winter 2023\n",
    "##########################################\n",
    "\n",
    "\n",
    "#########################################\n",
    "# Set up plotting\n",
    "#########################################\n",
    "import numpy as np\n",
    "import matplotlib as mpl\n",
    "mpl.use('tkagg')\n",
    "from matplotlib import pyplot as plt\n",
    "\n",
    "#########################################\n",
    "# Functions used for numerical integration\n",
    "# Defined to allow different types of numerical integration\n",
    "#########################################\n",
    "def f(s,i,r,beta,gamma,N): \n",
    "    # From dS/dt equation\n",
    "    return -beta*i*s/N \n",
    "def g(s,i,r,beta,gamma,N): \n",
    "    # From dI/dt equation\n",
    "    return beta*i*s/N - gamma*i\n",
    "def h(s,i,r,beta,gamma,N): \n",
    "    # From dR/dt equation\n",
    "    return gamma*i\n",
    "\n",
    "def main(beta, gamma, ax):\n",
    "    #########################################\n",
    "    # SIR model parameters\n",
    "    #########################################\n",
    "    N = 1000        # Population size\n",
    "    beta = beta       # Play with .2, .4, .8, .99 in class\n",
    "    gamma = gamma     # Rate at which infectious individuals recover\n",
    "    dt = 0.1        # Numerical integration time step\n",
    "    duration = 140  # Simulation duration \n",
    "\n",
    "    #########################################\n",
    "    # Initialize states of the population\n",
    "    #########################################\n",
    "    S = [N-1]\n",
    "    I = [1]\n",
    "    R = [0]\n",
    "    t = [0]\n",
    "\n",
    "    #########################################\n",
    "    # Use numerical integration to estimate time series\n",
    "    # Euler method\n",
    "    #########################################\n",
    "    while t[-1] < duration:\n",
    "        s = S[-1]; i = I[-1]; r = R[-1] # Get most recent population value\n",
    "        S.append(s + dt*f(s,i,r,beta,gamma,N))\n",
    "        I.append(i + dt*g(s,i,r,beta,gamma,N))\n",
    "        R.append(r + dt*h(s,i,r,beta,gamma,N))\n",
    "        t.append(t[-1]+dt)\n",
    "\n",
    "    # plt.figure(1)\n",
    "    ax.plot(t,S,'r',t,I,'g--',t,R,'b:')\n",
    "    ax.legend(['S','I','R'])\n",
    "    title = 'SIR model via Euler: beta = ' + str(beta) + ', gamma = ' + str(gamma) + ', and R0 = ' + str(round(beta/gamma,2))\n",
    "    ax.set_title(title)\n",
    "    # plt.waitforbuttonpress()\n",
    "\n",
    "    #########################################\n",
    "    # Repeat using a slightly more sophisticated numerical integration method\n",
    "    #########################################\n",
    "    \n",
    "    #########################################\n",
    "    # Initialize states of the population\n",
    "    #########################################\n",
    "    S = [N-1]\n",
    "    I = [1]\n",
    "    R = [0]\n",
    "    t = [0]\n",
    "    \n",
    "    #########################################\n",
    "    # Use numerical integration to estimate time series\n",
    "    # Midpoint method\n",
    "    #########################################\n",
    "    while t[-1] < duration:\n",
    "        s = S[-1]; i = I[-1]; r = R[-1]\n",
    "        s1 = s + dt/2*f(s,i,r,beta,gamma,N)\n",
    "        r1 = r + dt/2*g(s,i,r,beta,gamma,N)\n",
    "        i1 = i + dt/2*h(s,i,r,beta,gamma,N)\n",
    "        S.append(s + dt*f(s1,i1,r1,beta,gamma,N))\n",
    "        I.append(i + dt*g(s1,i1,r1,beta,gamma,N))\n",
    "        R.append(r + dt*h(s1,i1,r1,beta,gamma,N))\n",
    "        t.append(t[-1]+dt)\n",
    "    \n",
    "    #  Uncomment if you'd like to compare results from the two integration methods\n",
    "    # plt.figure(2)\n",
    "    # ax.plot(t,S,'r',t,I,'g--',t,R,'b:')\n",
    "    # ax.legend(['S','I','R'])\n",
    "    # title = 'SIR model via Euler: beta = ' + str(beta) + ', gamma = ' + str(gamma) + ', and R0 = ' + str(round(beta/gamma,2))\n",
    "    # ax.set_title(title)\n",
    "    # plt.waitforbuttonpress()\n",
    "\n",
    "\n"
   ]
  },
  {
   "cell_type": "code",
   "execution_count": 42,
   "metadata": {},
   "outputs": [
    {
     "data": {
      "text/plain": [
       "\"Beta is the factor influencing the rate of flow from susceptibile to infected. A high beta expedites the movement of suseptible people to\\nget infected and we see higher and higher peaks on the I-curve as we increase the beta. The higher peaks are not a consequence of \\nincreaing Beta but rather a consequence of increasing R0. Beta influences the slope of the S-curve and consequently the sharpness of the \\nspike in the I-curve. As we'll see in the third part of the exercise, where we keep R0 constant, beta influences the spike in the  \\nI-curve and the slope of the S-curve while the peak of the I-curve remains the same.\\n\""
      ]
     },
     "execution_count": 42,
     "metadata": {},
     "output_type": "execute_result"
    }
   ],
   "source": [
    "# Changing Beta\n",
    "fig, ((ax1, ax2),(ax3, ax4)) = plt.subplots(2, 2, figsize=(12, 6))\n",
    "Values = [(0.2,0.1), (0.4,0.1), (0.8,0.1), (0.99,0.1)]\n",
    "for i in range(len(Values)):\n",
    "    ax = eval(f'ax{i+1}')\n",
    "    beta,gamma = Values[i]\n",
    "    main(beta,gamma,ax)\n",
    "\n",
    "plt.subplots_adjust(hspace=0.4, wspace=0.8)\n",
    "plt.show()\n",
    "\n",
    "\"\"\"Beta is the factor influencing the rate of flow from susceptibile to infected. A high beta expedites the movement of suseptible people to\n",
    "get infected and we see higher and higher peaks on the I-curve as we increase the beta. The higher peaks are not a consequence of \n",
    "increaing Beta but rather a consequence of increasing R0. Beta influences the slope of the S-curve (or the growth of infections interpreted \n",
    "differently) and consequently the slope and sharpness of the spike in the I-curve. As we'll see in the third part of the exercise, where we keep \n",
    "R0 constant, beta influences the spike in the I-curve and the slope of the S-curve while the peak of the I-curve remains the same.\n",
    "\n",
    "Another conclusion that can be drawn from the plots is that a higher R0 (and not a higher beta) is tied to a lower steady state value of the \n",
    "susceptible curve and consequently a higher steady state value of the recovered curve. A higher R0 means that the rate of spread of infections\n",
    "is high. This means that a larger chunk of the population is likely to get infected and the infected people recover (or die) at steady state \n",
    "lending to a high recovered value and a low (still) susceptible value.\n",
    "\"\"\""
   ]
  },
  {
   "cell_type": "code",
   "execution_count": 39,
   "metadata": {},
   "outputs": [
    {
     "data": {
      "text/plain": [
       "'The model shows some unexpected results for values of R0<=1. The R0 value is modeled as the number of people an infected person will\\npass on the infection to. An R0 value of 1 means that an infected person will pass on the infection to only one other person. An R0 value\\nof 1 also means that the rate of flow from susceptible to infected is the same as the rate of flow from infected to recovered. Therefore,\\nat any given instance, there is only one infected person in the population and their passing on the infection to another and their\\nrecovery are simultaneous. This also lends to the deduction that an R0<1 means that the rate of recovery is more than rate of infection.\\nLooking at this at the granualar level, an infected person will not even infect one person before recovery. So none of the susceptible people\\nget infected. I think the model does not hold its ground for R0<=1.'"
      ]
     },
     "execution_count": 39,
     "metadata": {},
     "output_type": "execute_result"
    }
   ],
   "source": [
    "# Changing Gamma\n",
    "fig, ((ax1, ax2),(ax3, ax4)) = plt.subplots(2, 2, figsize=(12, 6))\n",
    "Values = [(0.2,0.1), (0.2,0.2), (0.2,0.4), (0.2,0.8)]\n",
    "for i in range(len(Values)):\n",
    "    ax = eval(f'ax{i+1}')\n",
    "    beta,gamma = Values[i]\n",
    "    main(beta,gamma,ax)\n",
    "\n",
    "plt.subplots_adjust(hspace=0.4, wspace=0.8)\n",
    "plt.show()\n",
    "\n",
    "\"\"\"The model shows some unexpected results for values of R0<=1. The R0 value is modeled as the number of people an infected person will\n",
    "pass on the infection to. An R0 value of 1 means that an infected person will pass on the infection to only one other person. An R0 value\n",
    "of 1 also means that the rate of flow from susceptible to infected is the same as the rate of flow from infected to recovered. Therefore,\n",
    "at any given instance, there is only one infected person in the population and their passing on the infection to another and their\n",
    "recovery are simultaneous. This also lends to the deduction that an R0<1 means that the rate of recovery is more than rate of infection.\n",
    "Looking at this at the granualar level, an infected person will not even infect one person before recovery. So none of the susceptible people\n",
    "get infected. I think this being a discrete model, it does not hold its ground for R0<=1.\"\"\""
   ]
  },
  {
   "cell_type": "code",
   "execution_count": 44,
   "metadata": {},
   "outputs": [
    {
     "data": {
      "text/plain": [
       "'Following my deduction from part 1, keeping the R0 constant, the I-curve peaks at the same number of infections. The only differing factor\\nis the sharpness of the I-curve. Higher beta values are tied to sharper peaks of the I-curve. This ties back to the discussion in class about\\nflattening the curve. The only way to flatten the curve is to reduce the beta or the infection rate. ( Wear the mask :( )\\n\\nAnother thing to note here is that the steady state values of S and R-curves are the same across different values of Beta and gamma. This means\\nthat steady state values are dependent not on Beta or gamma but on R0.'"
      ]
     },
     "execution_count": 44,
     "metadata": {},
     "output_type": "execute_result"
    }
   ],
   "source": [
    "# Changing Beta-Gamma keeping R0 constant\n",
    "fig, ((ax1, ax2),(ax3, ax4)) = plt.subplots(2, 2, figsize=(12, 6))\n",
    "Values = [(0.2,0.1), (0.4,0.2), (0.8,0.4), (1,0.5)]\n",
    "for i in range(len(Values)):\n",
    "    ax = eval(f'ax{i+1}')\n",
    "    beta,gamma = Values[i]\n",
    "    main(beta,gamma,ax)\n",
    "\n",
    "plt.subplots_adjust(hspace=0.4, wspace=0.8)\n",
    "plt.show()\n",
    "\n",
    "\"\"\"Following my deduction from part 1, keeping the R0 constant, the I-curve peaks at the same number of infections. The only differing factor\n",
    "is the sharpness of the I-curve. Higher beta values are tied to sharper peaks of the I-curve. This ties back to the discussion in class about\n",
    "flattening the curve. The only way to flatten the curve is to reduce the beta or the infection rate. ( Wear the mask :( )\n",
    "\n",
    "Another thing to note here is that the steady state values of S and R-curves are the same across different values of Beta and gamma. This means\n",
    "that steady state values are dependent not on Beta or gamma but on R0.\"\"\""
   ]
  }
 ],
 "metadata": {
  "kernelspec": {
   "display_name": "Python 3",
   "language": "python",
   "name": "python3"
  },
  "language_info": {
   "codemirror_mode": {
    "name": "ipython",
    "version": 3
   },
   "file_extension": ".py",
   "mimetype": "text/x-python",
   "name": "python",
   "nbconvert_exporter": "python",
   "pygments_lexer": "ipython3",
   "version": "3.10.6"
  },
  "orig_nbformat": 4,
  "vscode": {
   "interpreter": {
    "hash": "7827efa2b13f49aba75318bab9630f1d917eb58382bc581618f1c9b79217c406"
   }
  }
 },
 "nbformat": 4,
 "nbformat_minor": 2
}
