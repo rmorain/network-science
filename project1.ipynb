{
 "cells": [
  {
   "cell_type": "markdown",
   "id": "019d7961-dae8-47dc-90cb-66c75e4f33e9",
   "metadata": {
    "tags": []
   },
   "source": [
    "# Project 1\n",
    "\n",
    "An Agent-Based SEIR Model\n",
    "\n",
    "- Robert Morain\n",
    "- Vigynesh Bhatt"
   ]
  },
  {
   "cell_type": "markdown",
   "id": "d714d7c2-a80c-477d-96b0-2b441b09a0b8",
   "metadata": {},
   "source": [
    "### Abstract\n",
    "\n",
    "Summarize what you did and what you learned"
   ]
  },
  {
   "cell_type": "markdown",
   "id": "9b76e112-2057-4a8b-8eb7-47c1663c3845",
   "metadata": {},
   "source": [
    "### Introduction\n",
    "\n",
    "Short summary of why the problem is interesting to you (if it’s not interesting to\n",
    "you, make something up), what you did, and how you organized your report."
   ]
  },
  {
   "cell_type": "markdown",
   "id": "5e476461-7b89-49ae-9873-05761deaae0d",
   "metadata": {},
   "source": [
    "### Experiment Conditions\n",
    "\n",
    "I specified most of the experiment conditions, but I asked you to do\n",
    "two things: first, choose parameters for your scale-free networks and justify those choices, and\n",
    "second, run some experiments where you choose the infectiousness levels, time spent infectious,\n",
    "and time spent exposed."
   ]
  },
  {
   "cell_type": "markdown",
   "id": "6271a184-c5c5-4e2a-8040-7c62023c441e",
   "metadata": {},
   "source": [
    "### Hypotheses \n",
    "\n",
    "Make some hypotheses about how the virus will propagate across the different\n",
    "networks under the different conditions. Give some justification for your hypotheses in terms of\n",
    "network characteristics (e.g., the metrics in your summary table)."
   ]
  },
  {
   "cell_type": "markdown",
   "id": "5404672e-1166-4f79-b3e4-b850424f06cc",
   "metadata": {},
   "source": [
    "### Discussion\n",
    "\n",
    "Summarize which hypotheses were supported by data and which were not supported.\n",
    "Explain why you think the results came out the way they did. If you are speculating about why,\n",
    "state that you are hypothesizing a possible explanation. If the reason why is justified by the\n",
    "data, tell me how the data supports your explanation."
   ]
  },
  {
   "cell_type": "markdown",
   "id": "3585554f-3846-4614-9502-2cb00fca9762",
   "metadata": {},
   "source": [
    "### Future Work\n",
    "\n",
    "Tell me what you wish you had done or could do now that the project is over."
   ]
  },
  {
   "cell_type": "code",
   "execution_count": 1,
   "id": "b0b81814-70de-41e1-a147-e5f67b8053bf",
   "metadata": {},
   "outputs": [],
   "source": [
    "import numpy as np\n",
    "import networkx as nx"
   ]
  },
  {
   "cell_type": "code",
   "execution_count": 2,
   "id": "53622873-517f-413a-887d-0319679f96c4",
   "metadata": {},
   "outputs": [],
   "source": [
    "def p_infectious(d, p_1c, B):\n",
    "    a = p_1c / (1 - p_1c)\n",
    "    b = a * np.exp(B * (d ** 3 - 1))\n",
    "    return (a * b) / (1 + a * b) "
   ]
  },
  {
   "cell_type": "code",
   "execution_count": 29,
   "id": "b6dda58a-635a-4e59-9168-8b2e033b8d0d",
   "metadata": {},
   "outputs": [],
   "source": [
    "m_e = 1.0\n",
    "s_e = 1.0\n",
    "m_i = 2.25\n",
    "s_i = 0.105\n",
    "B = -0.0050367\n",
    "p_1c = 0.12"
   ]
  },
  {
   "cell_type": "code",
   "execution_count": 30,
   "id": "d8c662c2-4a17-4da3-b319-30511ccb3eb3",
   "metadata": {},
   "outputs": [],
   "source": [
    "class Agent():\n",
    "    def __init__(self, m_e, s_e, m_i, s_i, initial_state=\"S\"):\n",
    "        self.days_spent_infectious = 0 # How many days the agent has been infectious\n",
    "        self.initial_state = initial_state\n",
    "        self.possible_states = [\"S\", \"E\", \"I\", \"R\"]\n",
    "        self.current_state = initial_state\n",
    "        self.d_e = np.ceil(np.random.lognormal(mean=m_e, sigma=s_e)) # How long the agent stays in the exposed stage\n",
    "        self.countdown_to_infectious = self.d_e\n",
    "        self.d_i = np.ceil(np.random.lognormal(mean=m_i, sigma=s_i)) # How long the agent stays in the infectious stage\n",
    "        self.countdown_to_recovered = self.d_i\n",
    "        \n",
    "    def step(self):\n",
    "        pass\n",
    "        "
   ]
  },
  {
   "cell_type": "code",
   "execution_count": 66,
   "id": "ae1b3dc5-60af-4a14-9566-c1bb19ddac53",
   "metadata": {},
   "outputs": [],
   "source": [
    "class Population():\n",
    "    def __init__(self, G, m_e=1.0, s_e=1.0, m_i=2.25, s_i=0.105):\n",
    "        N = len(G.nodes)\n",
    "        self.population = []\n",
    "        for i in range(N):\n",
    "            neighbours = G[i]\n",
    "            self.population.append(Agent(i, m_e, s_e, m_i, s_i, neighbours))\n",
    "        # Set 5% of the population to exposed and 5% to infectious\n",
    "        exposed_infectious = np.random.choice(self.population, size=int(N * 0.1), replace=False)\n",
    "        for i in range(len(exposed_infectious) // 2):\n",
    "            exposed_infectious[i].state = \"E\"\n",
    "        for i in range(len(exposed_infectious) // 2, len(exposed_infectious)):\n",
    "            exposed_infectious[i].state = \"I\"\n",
    "            \n",
    "    \n",
    "    def step_all(self):\n",
    "        for a in self.all:\n",
    "            a.step()"
   ]
  },
  {
   "cell_type": "code",
   "execution_count": 54,
   "id": "b73e2724-3db5-46ed-b5ee-e06165b60a17",
   "metadata": {},
   "outputs": [],
   "source": [
    "def _read_graph_from_file(filename=\"ia-infect-dublin/ia-infect-dublin.mtx\"):\n",
    "    fo = open(filename,\"r\")\n",
    "    line = fo.readline() # Read file header\n",
    "    line = fo.readline() # Number of vertices and edges\n",
    "    if not line:\n",
    "        print(\"error -- illegal format for input\")\n",
    "        return\n",
    "    v = line.split(\" \")\n",
    "    numVertices = int(v[0])\n",
    "    G = nx.Graph()\n",
    "    G.add_nodes_from(range(1, numVertices+1))\n",
    "    while True:\n",
    "        line = fo.readline()\n",
    "        if not line:\n",
    "            break\n",
    "        #print(\"Line{}: {}\".format(count,line.strip()))\n",
    "        v = line.split(\" \")\n",
    "        v1 = int(v[0])\n",
    "        v2 = int(v[1])\n",
    "        G.add_edge(v1,v2)\n",
    "        G.add_edge(v2,v1)\n",
    "    fo.close()\n",
    "    return G"
   ]
  },
  {
   "cell_type": "code",
   "execution_count": 63,
   "id": "66c2e112-db3a-4fae-b509-fcfb8e91aab0",
   "metadata": {},
   "outputs": [],
   "source": [
    "G = nx.complete_graph(100)"
   ]
  },
  {
   "cell_type": "code",
   "execution_count": 64,
   "id": "24b66747-6ed1-4a26-a355-a6559fc03a39",
   "metadata": {},
   "outputs": [
    {
     "data": {
      "text/plain": [
       "100"
      ]
     },
     "execution_count": 64,
     "metadata": {},
     "output_type": "execute_result"
    }
   ],
   "source": [
    "len(G.nodes)"
   ]
  },
  {
   "cell_type": "code",
   "execution_count": 67,
   "id": "5378fee3-e56a-4788-8542-b4effb90347b",
   "metadata": {},
   "outputs": [
    {
     "ename": "TypeError",
     "evalue": "Agent.__init__() takes from 5 to 6 positional arguments but 7 were given",
     "output_type": "error",
     "traceback": [
      "\u001b[0;31m---------------------------------------------------------------------------\u001b[0m",
      "\u001b[0;31mTypeError\u001b[0m                                 Traceback (most recent call last)",
      "Input \u001b[0;32mIn [67]\u001b[0m, in \u001b[0;36m<cell line: 1>\u001b[0;34m()\u001b[0m\n\u001b[0;32m----> 1\u001b[0m P \u001b[38;5;241m=\u001b[39m \u001b[43mPopulation\u001b[49m\u001b[43m(\u001b[49m\u001b[43mG\u001b[49m\u001b[43m)\u001b[49m\n",
      "Input \u001b[0;32mIn [66]\u001b[0m, in \u001b[0;36mPopulation.__init__\u001b[0;34m(self, G, m_e, s_e, m_i, s_i)\u001b[0m\n\u001b[1;32m      5\u001b[0m \u001b[38;5;28;01mfor\u001b[39;00m i \u001b[38;5;129;01min\u001b[39;00m \u001b[38;5;28mrange\u001b[39m(N):\n\u001b[1;32m      6\u001b[0m     neighbours \u001b[38;5;241m=\u001b[39m G[i]\n\u001b[0;32m----> 7\u001b[0m     \u001b[38;5;28mself\u001b[39m\u001b[38;5;241m.\u001b[39mpopulation\u001b[38;5;241m.\u001b[39mappend(\u001b[43mAgent\u001b[49m\u001b[43m(\u001b[49m\u001b[43mi\u001b[49m\u001b[43m,\u001b[49m\u001b[43m \u001b[49m\u001b[43mm_e\u001b[49m\u001b[43m,\u001b[49m\u001b[43m \u001b[49m\u001b[43ms_e\u001b[49m\u001b[43m,\u001b[49m\u001b[43m \u001b[49m\u001b[43mm_i\u001b[49m\u001b[43m,\u001b[49m\u001b[43m \u001b[49m\u001b[43ms_i\u001b[49m\u001b[43m,\u001b[49m\u001b[43m \u001b[49m\u001b[43mneighbours\u001b[49m\u001b[43m)\u001b[49m)\n\u001b[1;32m      8\u001b[0m \u001b[38;5;66;03m# Set 5% of the population to exposed and 5% to infectious\u001b[39;00m\n\u001b[1;32m      9\u001b[0m exposed_infectious \u001b[38;5;241m=\u001b[39m np\u001b[38;5;241m.\u001b[39mrandom\u001b[38;5;241m.\u001b[39mchoice(\u001b[38;5;28mself\u001b[39m\u001b[38;5;241m.\u001b[39mpopulation, size\u001b[38;5;241m=\u001b[39m\u001b[38;5;28mint\u001b[39m(N \u001b[38;5;241m*\u001b[39m \u001b[38;5;241m0.1\u001b[39m), replace\u001b[38;5;241m=\u001b[39m\u001b[38;5;28;01mFalse\u001b[39;00m)\n",
      "\u001b[0;31mTypeError\u001b[0m: Agent.__init__() takes from 5 to 6 positional arguments but 7 were given"
     ]
    }
   ],
   "source": [
    "P = Population(G)"
   ]
  },
  {
   "cell_type": "code",
   "execution_count": null,
   "id": "c0147137-a8e2-41ac-90f8-1da708309f6c",
   "metadata": {},
   "outputs": [],
   "source": []
  }
 ],
 "metadata": {
  "kernelspec": {
   "display_name": "networks",
   "language": "python",
   "name": "networks"
  },
  "language_info": {
   "codemirror_mode": {
    "name": "ipython",
    "version": 3
   },
   "file_extension": ".py",
   "mimetype": "text/x-python",
   "name": "python",
   "nbconvert_exporter": "python",
   "pygments_lexer": "ipython3",
   "version": "3.10.8"
  }
 },
 "nbformat": 4,
 "nbformat_minor": 5
}
