{
 "cells": [
  {
   "cell_type": "markdown",
   "id": "019d7961-dae8-47dc-90cb-66c75e4f33e9",
   "metadata": {
    "tags": []
   },
   "source": [
    "# Project 1\n",
    "\n",
    "An Agent-Based SEIR Model\n",
    "\n",
    "- Robert Morain\n",
    "- Vigynesh Bhatt"
   ]
  },
  {
   "cell_type": "markdown",
   "id": "d714d7c2-a80c-477d-96b0-2b441b09a0b8",
   "metadata": {},
   "source": [
    "### Abstract\n",
    "\n",
    "Summarize what you did and what you learned"
   ]
  },
  {
   "cell_type": "markdown",
   "id": "9b76e112-2057-4a8b-8eb7-47c1663c3845",
   "metadata": {},
   "source": [
    "### Introduction\n",
    "\n",
    "Short summary of why the problem is interesting to you (if it’s not interesting to\n",
    "you, make something up), what you did, and how you organized your report."
   ]
  },
  {
   "cell_type": "markdown",
   "id": "5e476461-7b89-49ae-9873-05761deaae0d",
   "metadata": {},
   "source": [
    "### Experiment Conditions\n",
    "\n",
    "I specified most of the experiment conditions, but I asked you to do\n",
    "two things: first, choose parameters for your scale-free networks and justify those choices, and\n",
    "second, run some experiments where you choose the infectiousness levels, time spent infectious,\n",
    "and time spent exposed."
   ]
  },
  {
   "cell_type": "markdown",
   "id": "6271a184-c5c5-4e2a-8040-7c62023c441e",
   "metadata": {},
   "source": [
    "### Hypotheses \n",
    "\n",
    "Make some hypotheses about how the virus will propagate across the different\n",
    "networks under the different conditions. Give some justification for your hypotheses in terms of\n",
    "network characteristics (e.g., the metrics in your summary table)."
   ]
  },
  {
   "cell_type": "markdown",
   "id": "5404672e-1166-4f79-b3e4-b850424f06cc",
   "metadata": {},
   "source": [
    "### Discussion\n",
    "\n",
    "Summarize which hypotheses were supported by data and which were not supported.\n",
    "Explain why you think the results came out the way they did. If you are speculating about why,\n",
    "state that you are hypothesizing a possible explanation. If the reason why is justified by the\n",
    "data, tell me how the data supports your explanation."
   ]
  },
  {
   "cell_type": "markdown",
   "id": "3585554f-3846-4614-9502-2cb00fca9762",
   "metadata": {},
   "source": [
    "### Future Work\n",
    "\n",
    "Tell me what you wish you had done or could do now that the project is over."
   ]
  },
  {
   "cell_type": "code",
   "execution_count": 1,
   "id": "b0b81814-70de-41e1-a147-e5f67b8053bf",
   "metadata": {},
   "outputs": [],
   "source": [
    "import numpy as np\n",
    "import networkx as nx"
   ]
  },
  {
   "cell_type": "code",
   "execution_count": 2,
   "id": "53622873-517f-413a-887d-0319679f96c4",
   "metadata": {},
   "outputs": [],
   "source": [
    "def p_infectious(d, p_1c, B):\n",
    "    a = p_1c / (1 - p_1c)\n",
    "    b = a * np.exp(B * (d ** 3 - 1))\n",
    "    return (a * b) / (1 + a * b) "
   ]
  },
  {
   "cell_type": "code",
   "execution_count": 29,
   "id": "b6dda58a-635a-4e59-9168-8b2e033b8d0d",
   "metadata": {},
   "outputs": [],
   "source": [
    "m_e = 1.0\n",
    "s_e = 1.0\n",
    "m_i = 2.25\n",
    "s_i = 0.105\n",
    "B = -0.0050367\n",
    "p_1c = 0.12"
   ]
  },
  {
   "cell_type": "code",
   "execution_count": 30,
   "id": "d8c662c2-4a17-4da3-b319-30511ccb3eb3",
   "metadata": {},
   "outputs": [],
   "source": [
    "class Agent():\n",
    "    def __init__(self, m_e, s_e, m_i, s_i, initial_state=\"S\"):\n",
    "        self.days_spent_infectious = 0 # How many days the agent has been infectious\n",
    "        self.initial_state = initial_state\n",
    "        self.possible_states = [\"S\", \"E\", \"I\", \"R\"]\n",
    "        self.current_state = initial_state\n",
    "        self.d_e = np.ceil(np.random.lognormal(mean=m_e, sigma=s_e)) # How long the agent stays in the exposed stage\n",
    "        self.countdown_to_infectious = self.d_e\n",
    "        self.d_i = np.ceil(np.random.lognormal(mean=m_i, sigma=s_i)) # How long the agent stays in the infectious stage\n",
    "        self.countdown_to_recovered = self.d_i\n",
    "        \n",
    "    def step(self):\n",
    "        pass\n",
    "        "
   ]
  },
  {
   "cell_type": "code",
   "execution_count": 39,
   "id": "ae1b3dc5-60af-4a14-9566-c1bb19ddac53",
   "metadata": {},
   "outputs": [],
   "source": [
    "class Population():\n",
    "    def __init__(self, N, m_e, s_e, m_i, s_i):\n",
    "        self.susceptible = [Agent(m_e, s_e, m_i, s_i) for i in range(N)]\n",
    "    \n",
    "    def step_all(self):\n",
    "        pass"
   ]
  },
  {
   "cell_type": "code",
   "execution_count": 6,
   "id": "b73e2724-3db5-46ed-b5ee-e06165b60a17",
   "metadata": {},
   "outputs": [],
   "source": [
    "def _read_graph_from_file(filename=\"ia-infect-dublin/ia-infect-dublin.mtx\"):\n",
    "    fo = open(filename,\"r\")\n",
    "    line = fo.readline() # Read file header\n",
    "    line = fo.readline() # Number of vertices and edges\n",
    "    if not line:\n",
    "        print(\"error -- illegal format for input\")\n",
    "        return\n",
    "    v = line.split(\" \")\n",
    "    numVertices = int(v[0])\n",
    "    G = nx.Graph()\n",
    "    G.add_nodes_from(range(1, numVertices+1))\n",
    "    while True:\n",
    "        line = fo.readline()\n",
    "        if not line:\n",
    "            break\n",
    "        #print(\"Line{}: {}\".format(count,line.strip()))\n",
    "        v = line.split(\" \")\n",
    "        v1 = int(v[0])\n",
    "        v2 = int(v[1])\n",
    "        G.add_edge(v1,v2)\n",
    "        G.add_edge(v2,v1)\n",
    "    fo.close()\n",
    "    return G"
   ]
  },
  {
   "cell_type": "code",
   "execution_count": 34,
   "id": "663b0824-7f91-418b-a3ba-e4a8cc2a82de",
   "metadata": {},
   "outputs": [
    {
     "ename": "TypeError",
     "evalue": "Agent.__init__() takes from 5 to 6 positional arguments but 9 were given",
     "output_type": "error",
     "traceback": [
      "\u001b[0;31m---------------------------------------------------------------------------\u001b[0m",
      "\u001b[0;31mTypeError\u001b[0m                                 Traceback (most recent call last)",
      "Input \u001b[0;32mIn [37]\u001b[0m, in \u001b[0;36m<cell line: 1>\u001b[0;34m()\u001b[0m\n\u001b[0;32m----> 1\u001b[0m a \u001b[38;5;241m=\u001b[39m \u001b[43mAgent\u001b[49m\u001b[43m(\u001b[49m\u001b[43mm_e\u001b[49m\u001b[43m,\u001b[49m\u001b[43m \u001b[49m\u001b[43ms_e\u001b[49m\u001b[43m,\u001b[49m\u001b[43m \u001b[49m\u001b[43mm_i\u001b[49m\u001b[43m,\u001b[49m\u001b[43m \u001b[49m\u001b[43ms_i\u001b[49m\u001b[43m,\u001b[49m\u001b[43m \u001b[49m\u001b[43mm_e\u001b[49m\u001b[43m,\u001b[49m\u001b[43m \u001b[49m\u001b[43ms_e\u001b[49m\u001b[43m,\u001b[49m\u001b[43m \u001b[49m\u001b[43mm_i\u001b[49m\u001b[43m,\u001b[49m\u001b[43m \u001b[49m\u001b[43ms_i\u001b[49m\u001b[43m)\u001b[49m\n\u001b[1;32m      2\u001b[0m a\u001b[38;5;241m.\u001b[39mcountdown_to_infectious\n",
      "\u001b[0;31mTypeError\u001b[0m: Agent.__init__() takes from 5 to 6 positional arguments but 9 were given"
     ]
    }
   ],
   "source": [
    "a = Agent(m_e, s_e, m_i, s_i)\n",
    "a.countdown_to_infectious"
   ]
  },
  {
   "cell_type": "code",
   "execution_count": 40,
   "id": "f81d6d03-24dc-45e0-acd3-43cf7b9959f7",
   "metadata": {},
   "outputs": [
    {
     "data": {
      "text/plain": [
       "[<__main__.Agent at 0x7f1512ec3e20>,\n",
       " <__main__.Agent at 0x7f1512ec0880>,\n",
       " <__main__.Agent at 0x7f1512ec0790>,\n",
       " <__main__.Agent at 0x7f1512817a90>,\n",
       " <__main__.Agent at 0x7f15128141c0>,\n",
       " <__main__.Agent at 0x7f1512815750>,\n",
       " <__main__.Agent at 0x7f1512816500>,\n",
       " <__main__.Agent at 0x7f1512816a70>,\n",
       " <__main__.Agent at 0x7f1512815540>,\n",
       " <__main__.Agent at 0x7f15128166e0>]"
      ]
     },
     "execution_count": 40,
     "metadata": {},
     "output_type": "execute_result"
    }
   ],
   "source": [
    "p = Population(10, m_e, s_e, m_i, s_i)\n",
    "p.susceptible"
   ]
  },
  {
   "cell_type": "code",
   "execution_count": null,
   "id": "451eac93-ff10-4c6a-ad22-703ac95c8221",
   "metadata": {},
   "outputs": [],
   "source": []
  }
 ],
 "metadata": {
  "kernelspec": {
   "display_name": "networks",
   "language": "python",
   "name": "networks"
  },
  "language_info": {
   "codemirror_mode": {
    "name": "ipython",
    "version": 3
   },
   "file_extension": ".py",
   "mimetype": "text/x-python",
   "name": "python",
   "nbconvert_exporter": "python",
   "pygments_lexer": "ipython3",
   "version": "3.10.8"
  }
 },
 "nbformat": 4,
 "nbformat_minor": 5
}
