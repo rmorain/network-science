{
 "cells": [
  {
   "cell_type": "markdown",
   "id": "019d7961-dae8-47dc-90cb-66c75e4f33e9",
   "metadata": {
    "tags": []
   },
   "source": [
    "# Project 1\n",
    "\n",
    "An Agent-Based SEIR Model\n",
    "\n",
    "- Robert Morain\n",
    "- Vigynesh Bhatt"
   ]
  },
  {
   "cell_type": "markdown",
   "id": "d714d7c2-a80c-477d-96b0-2b441b09a0b8",
   "metadata": {},
   "source": [
    "### Abstract\n",
    "\n",
    "Summarize what you did and what you learned"
   ]
  },
  {
   "cell_type": "markdown",
   "id": "9b76e112-2057-4a8b-8eb7-47c1663c3845",
   "metadata": {},
   "source": [
    "### Introduction\n",
    "\n",
    "Short summary of why the problem is interesting to you (if it’s not interesting to\n",
    "you, make something up), what you did, and how you organized your report."
   ]
  },
  {
   "cell_type": "markdown",
   "id": "5e476461-7b89-49ae-9873-05761deaae0d",
   "metadata": {},
   "source": [
    "### Experiment Conditions\n",
    "\n",
    "I specified most of the experiment conditions, but I asked you to do\n",
    "two things: first, choose parameters for your scale-free networks and justify those choices, and\n",
    "second, run some experiments where you choose the infectiousness levels, time spent infectious,\n",
    "and time spent exposed."
   ]
  },
  {
   "cell_type": "markdown",
   "id": "6271a184-c5c5-4e2a-8040-7c62023c441e",
   "metadata": {},
   "source": [
    "### Hypotheses \n",
    "\n",
    "Make some hypotheses about how the virus will propagate across the different\n",
    "networks under the different conditions. Give some justification for your hypotheses in terms of\n",
    "network characteristics (e.g., the metrics in your summary table)."
   ]
  },
  {
   "cell_type": "markdown",
   "id": "5404672e-1166-4f79-b3e4-b850424f06cc",
   "metadata": {},
   "source": [
    "### Discussion\n",
    "\n",
    "Summarize which hypotheses were supported by data and which were not supported.\n",
    "Explain why you think the results came out the way they did. If you are speculating about why,\n",
    "state that you are hypothesizing a possible explanation. If the reason why is justified by the\n",
    "data, tell me how the data supports your explanation."
   ]
  },
  {
   "cell_type": "markdown",
   "id": "3585554f-3846-4614-9502-2cb00fca9762",
   "metadata": {},
   "source": [
    "### Future Work\n",
    "\n",
    "Tell me what you wish you had done or could do now that the project is over."
   ]
  },
  {
   "cell_type": "code",
   "execution_count": 1,
   "id": "b0b81814-70de-41e1-a147-e5f67b8053bf",
   "metadata": {},
   "outputs": [],
   "source": [
    "import numpy as np\n",
    "import networkx as nx"
   ]
  },
  {
   "cell_type": "code",
   "execution_count": 2,
   "id": "53622873-517f-413a-887d-0319679f96c4",
   "metadata": {},
   "outputs": [],
   "source": [
    "def p_infectious(d, p_1c, B):\n",
    "    a = p_1c / (1 - p_1c)\n",
    "    b = a * np.exp(B * (d ** 3 - 1))\n",
    "    return (a * b) / (1 + a * b) "
   ]
  },
  {
   "cell_type": "code",
   "execution_count": 3,
   "id": "b6dda58a-635a-4e59-9168-8b2e033b8d0d",
   "metadata": {},
   "outputs": [],
   "source": [
    "m_e = 1.0\n",
    "s_e = 1.0\n",
    "m_i = 2.25\n",
    "s_i = 0.105\n",
    "B = -0.0050367\n",
    "p_1c = 0.12"
   ]
  },
  {
   "cell_type": "code",
   "execution_count": 4,
   "id": "55603f5f",
   "metadata": {},
   "outputs": [],
   "source": [
    "from enum import Enum\n",
    "\n",
    "class State(Enum):\n",
    "    SUSCEPTIBLE = 'S'\n",
    "    EXPOSED = 'E'\n",
    "    INFECTED = 'I'\n",
    "    RECOVERED = 'R'   \n"
   ]
  },
  {
   "cell_type": "code",
   "execution_count": 5,
   "id": "d8c662c2-4a17-4da3-b319-30511ccb3eb3",
   "metadata": {},
   "outputs": [],
   "source": [
    "class Agent():\n",
    "    def __init__(self, m_e, s_e, m_i, s_i, neighbours, initial_state=State.SUSCEPTIBLE):\n",
    "        self.state = initial_state\n",
    "        self.neighbours = neighbours\n",
    "\n",
    "        self.days_spent_infectious = 0 # How many days the agent has been infectious\n",
    "        \n",
    "        self.d_e = np.ceil(np.random.lognormal(mean=m_e, sigma=s_e)) # How long the agent stays in the exposed stage\n",
    "        self.countdown_to_infectious = self.d_e\n",
    "        self.d_i = np.ceil(np.random.lognormal(mean=m_i, sigma=s_i)) # How long the agent stays in the infectious stage\n",
    "        self.countdown_to_recovered = self.d_i\n",
    "    \n",
    "    def setState(self, state):\n",
    "        self.state = state\n",
    "\n",
    "    def getState(self):\n",
    "        return self.state\n",
    "\n",
    "    def step(self):\n",
    "        if self.state == State.SUSCEPTIBLE:\n",
    "            self.do_susceptible()\n",
    "        elif self.state == State.EXPOSED:\n",
    "            self.do_exposed()\n",
    "        elif self.state == State.INFECTED:\n",
    "            self.do_infected()\n",
    "        else:\n",
    "            self.do_recovered()\n",
    "\n",
    "    def do_susceptible(self):\n",
    "        for neighbor in self.neighbors:\n",
    "            if neighbor.state == State.INFECTED:\n",
    "                self.setState(State.EXPOSED)\n",
    "                return\n",
    "    \n",
    "    def do_exposed(self):\n",
    "        self.countdown_to_infectious-=1\n",
    "        if self.countdown_to_infectious == 0:\n",
    "            self.setState(State.INFECTED)\n",
    "    \n",
    "    def do_infected(self):\n",
    "        self.countdown_to_recovered-=1\n",
    "        self.days_spent_infectious+=1\n",
    "        if self.countdown_to_recovered==0:\n",
    "            self.setState(State.RECOVERED)\n",
    "    \n",
    "    def do_recovered(self):\n",
    "        pass\n",
    "\n"
   ]
  },
  {
   "cell_type": "code",
   "execution_count": 20,
   "id": "ae1b3dc5-60af-4a14-9566-c1bb19ddac53",
   "metadata": {},
   "outputs": [],
   "source": [
    "class Population():\n",
    "    def __init__(self, G, m_e=1.0, s_e=1.0, m_i=2.25, s_i=0.105):\n",
    "        N = len(G.nodes)\n",
    "        self.population = []\n",
    "        for i in range(N):\n",
    "            neighbors = G[i]\n",
    "            self.population.append(Agent(m_e, s_e, m_i, s_i, neighbors))\n",
    "        # Set 5% of the population to exposed and 5% to infectious\n",
    "        exposed_infectious = np.random.choice(self.population, size=int(N * 0.1), replace=False)\n",
    "        for i in range(len(exposed_infectious) // 2):\n",
    "            exposed_infectious[i].state = State.EXPOSED\n",
    "        for i in range(len(exposed_infectious) // 2, len(exposed_infectious)):\n",
    "            exposed_infectious[i].state = State.INFECTED\n",
    "            \n",
    "    def count_all(self):\n",
    "        susceptible = 0\n",
    "        exposed = 0\n",
    "        infectious = 0\n",
    "        recovered = 0\n",
    "        for a in self.population:\n",
    "            if a.state == State.SUSCEPTIBLE:\n",
    "                susceptible += 1\n",
    "            elif a.state == State.EXPOSED:\n",
    "                exposed += 1\n",
    "            elif a.state == State.INFECTED:\n",
    "                infectious += 1\n",
    "            elif a.state == State.RECOVERED:\n",
    "                recovered += 1\n",
    "        return susceptible, exposed, infectious, recovered\n",
    "                \n",
    "    \n",
    "    def step_all(self):\n",
    "        for a in self.all:\n",
    "            a.step()"
   ]
  },
  {
   "cell_type": "code",
   "execution_count": 7,
   "id": "b73e2724-3db5-46ed-b5ee-e06165b60a17",
   "metadata": {},
   "outputs": [],
   "source": [
    "def _read_graph_from_file(filename=\"ia-infect-dublin/ia-infect-dublin.mtx\"):\n",
    "    fo = open(filename,\"r\")\n",
    "    line = fo.readline() # Read file header\n",
    "    line = fo.readline() # Number of vertices and edges\n",
    "    if not line:\n",
    "        print(\"error -- illegal format for input\")\n",
    "        return\n",
    "    v = line.split(\" \")\n",
    "    numVertices = int(v[0])\n",
    "    G = nx.Graph()\n",
    "    G.add_nodes_from(range(1, numVertices+1))\n",
    "    while True:\n",
    "        line = fo.readline()\n",
    "        if not line:\n",
    "            break\n",
    "        #print(\"Line{}: {}\".format(count,line.strip()))\n",
    "        v = line.split(\" \")\n",
    "        v1 = int(v[0])\n",
    "        v2 = int(v[1])\n",
    "        G.add_edge(v1,v2)\n",
    "        G.add_edge(v2,v1)\n",
    "    fo.close()\n",
    "    return G"
   ]
  },
  {
   "cell_type": "code",
   "execution_count": 21,
   "id": "66c2e112-db3a-4fae-b509-fcfb8e91aab0",
   "metadata": {},
   "outputs": [],
   "source": [
    "G = nx.complete_graph(100)"
   ]
  },
  {
   "cell_type": "code",
   "execution_count": 22,
   "id": "5378fee3-e56a-4788-8542-b4effb90347b",
   "metadata": {},
   "outputs": [],
   "source": [
    "P = Population(G)"
   ]
  },
  {
   "cell_type": "code",
   "execution_count": 23,
   "id": "c0147137-a8e2-41ac-90f8-1da708309f6c",
   "metadata": {},
   "outputs": [
    {
     "data": {
      "text/plain": [
       "(90, 5, 5, 0)"
      ]
     },
     "execution_count": 23,
     "metadata": {},
     "output_type": "execute_result"
    }
   ],
   "source": [
    "P.count_all()"
   ]
  },
  {
   "cell_type": "code",
   "execution_count": 24,
   "id": "06e0c5b4-4e38-40fa-b3cc-f6a49d992ade",
   "metadata": {},
   "outputs": [],
   "source": [
    "a = P.population[0]"
   ]
  },
  {
   "cell_type": "code",
   "execution_count": 28,
   "id": "94c9b6e1-333c-4f15-9037-3427258e6a43",
   "metadata": {},
   "outputs": [
    {
     "data": {
      "text/plain": [
       "AtlasView({1: {}, 2: {}, 3: {}, 4: {}, 5: {}, 6: {}, 7: {}, 8: {}, 9: {}, 10: {}, 11: {}, 12: {}, 13: {}, 14: {}, 15: {}, 16: {}, 17: {}, 18: {}, 19: {}, 20: {}, 21: {}, 22: {}, 23: {}, 24: {}, 25: {}, 26: {}, 27: {}, 28: {}, 29: {}, 30: {}, 31: {}, 32: {}, 33: {}, 34: {}, 35: {}, 36: {}, 37: {}, 38: {}, 39: {}, 40: {}, 41: {}, 42: {}, 43: {}, 44: {}, 45: {}, 46: {}, 47: {}, 48: {}, 49: {}, 50: {}, 51: {}, 52: {}, 53: {}, 54: {}, 55: {}, 56: {}, 57: {}, 58: {}, 59: {}, 60: {}, 61: {}, 62: {}, 63: {}, 64: {}, 65: {}, 66: {}, 67: {}, 68: {}, 69: {}, 70: {}, 71: {}, 72: {}, 73: {}, 74: {}, 75: {}, 76: {}, 77: {}, 78: {}, 79: {}, 80: {}, 81: {}, 82: {}, 83: {}, 84: {}, 85: {}, 86: {}, 87: {}, 88: {}, 89: {}, 90: {}, 91: {}, 92: {}, 93: {}, 94: {}, 95: {}, 96: {}, 97: {}, 98: {}, 99: {}})"
      ]
     },
     "execution_count": 28,
     "metadata": {},
     "output_type": "execute_result"
    }
   ],
   "source": [
    "a.neighbours"
   ]
  },
  {
   "cell_type": "code",
   "execution_count": 41,
   "id": "44a262ab-24bf-44b1-8d04-9ba90ee86b0b",
   "metadata": {},
   "outputs": [],
   "source": [
    "n = G.neighbors(0)"
   ]
  },
  {
   "cell_type": "code",
   "execution_count": 45,
   "id": "0b8ea927-1aef-4eef-9196-6c78a3a576c1",
   "metadata": {},
   "outputs": [
    {
     "data": {
      "text/plain": [
       "[1,\n",
       " 2,\n",
       " 3,\n",
       " 4,\n",
       " 5,\n",
       " 6,\n",
       " 7,\n",
       " 8,\n",
       " 9,\n",
       " 10,\n",
       " 11,\n",
       " 12,\n",
       " 13,\n",
       " 14,\n",
       " 15,\n",
       " 16,\n",
       " 17,\n",
       " 18,\n",
       " 19,\n",
       " 20,\n",
       " 21,\n",
       " 22,\n",
       " 23,\n",
       " 24,\n",
       " 25,\n",
       " 26,\n",
       " 27,\n",
       " 28,\n",
       " 29,\n",
       " 30,\n",
       " 31,\n",
       " 32,\n",
       " 33,\n",
       " 34,\n",
       " 35,\n",
       " 36,\n",
       " 37,\n",
       " 38,\n",
       " 39,\n",
       " 40,\n",
       " 41,\n",
       " 42,\n",
       " 43,\n",
       " 44,\n",
       " 45,\n",
       " 46,\n",
       " 47,\n",
       " 48,\n",
       " 49,\n",
       " 50,\n",
       " 51,\n",
       " 52,\n",
       " 53,\n",
       " 54,\n",
       " 55,\n",
       " 56,\n",
       " 57,\n",
       " 58,\n",
       " 59,\n",
       " 60,\n",
       " 61,\n",
       " 62,\n",
       " 63,\n",
       " 64,\n",
       " 65,\n",
       " 66,\n",
       " 67,\n",
       " 68,\n",
       " 69,\n",
       " 70,\n",
       " 71,\n",
       " 72,\n",
       " 73,\n",
       " 74,\n",
       " 75,\n",
       " 76,\n",
       " 77,\n",
       " 78,\n",
       " 79,\n",
       " 80,\n",
       " 81,\n",
       " 82,\n",
       " 83,\n",
       " 84,\n",
       " 85,\n",
       " 86,\n",
       " 87,\n",
       " 88,\n",
       " 89,\n",
       " 90,\n",
       " 91,\n",
       " 92,\n",
       " 93,\n",
       " 94,\n",
       " 95,\n",
       " 96,\n",
       " 97,\n",
       " 98,\n",
       " 99]"
      ]
     },
     "execution_count": 45,
     "metadata": {},
     "output_type": "execute_result"
    }
   ],
   "source": [
    "[n for n in G[0]]"
   ]
  },
  {
   "cell_type": "code",
   "execution_count": null,
   "id": "20c7eeb0-1ddd-4ffd-b6c2-f8198b7755b2",
   "metadata": {},
   "outputs": [],
   "source": []
  }
 ],
 "metadata": {
  "kernelspec": {
   "display_name": "networks",
   "language": "python",
   "name": "networks"
  },
  "language_info": {
   "codemirror_mode": {
    "name": "ipython",
    "version": 3
   },
   "file_extension": ".py",
   "mimetype": "text/x-python",
   "name": "python",
   "nbconvert_exporter": "python",
   "pygments_lexer": "ipython3",
   "version": "3.10.8"
  },
  "vscode": {
   "interpreter": {
    "hash": "7827efa2b13f49aba75318bab9630f1d917eb58382bc581618f1c9b79217c406"
   }
  }
 },
 "nbformat": 4,
 "nbformat_minor": 5
}
