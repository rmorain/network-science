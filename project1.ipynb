{
 "cells": [
  {
   "cell_type": "markdown",
   "id": "019d7961-dae8-47dc-90cb-66c75e4f33e9",
   "metadata": {
    "tags": []
   },
   "source": [
    "# Project 1\n",
    "\n",
    "An Agent-Based SEIR Model\n",
    "\n",
    "- Robert Morain\n",
    "- Vigynesh Bhatt"
   ]
  },
  {
   "cell_type": "markdown",
   "id": "d714d7c2-a80c-477d-96b0-2b441b09a0b8",
   "metadata": {},
   "source": [
    "### Abstract\n",
    "\n",
    "Summarize what you did and what you learned"
   ]
  },
  {
   "cell_type": "markdown",
   "id": "9b76e112-2057-4a8b-8eb7-47c1663c3845",
   "metadata": {},
   "source": [
    "### Introduction\n",
    "\n",
    "Short summary of why the problem is interesting to you (if it’s not interesting to\n",
    "you, make something up), what you did, and how you organized your report."
   ]
  },
  {
   "cell_type": "markdown",
   "id": "5e476461-7b89-49ae-9873-05761deaae0d",
   "metadata": {},
   "source": [
    "### Experiment Conditions\n",
    "\n",
    "I specified most of the experiment conditions, but I asked you to do\n",
    "two things: first, choose parameters for your scale-free networks and justify those choices, and\n",
    "second, run some experiments where you choose the infectiousness levels, time spent infectious,\n",
    "and time spent exposed."
   ]
  },
  {
   "cell_type": "markdown",
   "id": "6271a184-c5c5-4e2a-8040-7c62023c441e",
   "metadata": {},
   "source": [
    "### Hypotheses \n",
    "\n",
    "Make some hypotheses about how the virus will propagate across the different\n",
    "networks under the different conditions. Give some justification for your hypotheses in terms of\n",
    "network characteristics (e.g., the metrics in your summary table)."
   ]
  },
  {
   "cell_type": "markdown",
   "id": "5404672e-1166-4f79-b3e4-b850424f06cc",
   "metadata": {},
   "source": [
    "### Discussion\n",
    "\n",
    "Summarize which hypotheses were supported by data and which were not supported.\n",
    "Explain why you think the results came out the way they did. If you are speculating about why,\n",
    "state that you are hypothesizing a possible explanation. If the reason why is justified by the\n",
    "data, tell me how the data supports your explanation."
   ]
  },
  {
   "cell_type": "markdown",
   "id": "3585554f-3846-4614-9502-2cb00fca9762",
   "metadata": {},
   "source": [
    "### Future Work\n",
    "\n",
    "Tell me what you wish you had done or could do now that the project is over."
   ]
  },
  {
   "cell_type": "code",
   "execution_count": 14,
   "id": "b0b81814-70de-41e1-a147-e5f67b8053bf",
   "metadata": {},
   "outputs": [],
   "source": [
    "import numpy as np\n",
    "import networkx as nx"
   ]
  },
  {
   "cell_type": "code",
   "execution_count": 15,
   "id": "53622873-517f-413a-887d-0319679f96c4",
   "metadata": {},
   "outputs": [],
   "source": [
    "def p_infectious(d, p_1c, B):\n",
    "    a = p_1c / (1 - p_1c)\n",
    "    b = a * np.exp(B * d ** 3 - 1)\n",
    "    return (a * b) / (1 + a * b) "
   ]
  },
  {
   "cell_type": "code",
   "execution_count": 13,
   "id": "b6dda58a-635a-4e59-9168-8b2e033b8d0d",
   "metadata": {},
   "outputs": [],
   "source": [
    "m_e = 1.0\n",
    "s_e = 1.0\n",
    "m_i = 2.25\n",
    "s_i = 0.105\n",
    "B = -0.0050367\n",
    "p_1c = 0.12"
   ]
  },
  {
   "cell_type": "code",
   "execution_count": 21,
   "id": "d8c662c2-4a17-4da3-b319-30511ccb3eb3",
   "metadata": {},
   "outputs": [],
   "source": [
    "class Agent():\n",
    "    # TODO\n",
    "    def __init__(self, countdown_to_infectious, countdown_to_recovered, days_spent_infectious, initial_state=\"S\"):\n",
    "        self.countdown_to_infectious = countdown_to_infectious\n",
    "        self.countdown_to_recovered = countdown_to_recovered\n",
    "        self.days_spent_infectious = days_spent_infectious\n",
    "        self.initial_state = initial_state\n",
    "        self.possible_states = [\"S\", \"E\", \"I\", \"R\"]\n",
    "        self.current_state = initial_state\n",
    "        \n",
    "    def step(self):\n",
    "        pass\n",
    "        "
   ]
  },
  {
   "cell_type": "code",
   "execution_count": 22,
   "id": "ae1b3dc5-60af-4a14-9566-c1bb19ddac53",
   "metadata": {},
   "outputs": [],
   "source": [
    "class Population():\n",
    "    # TODO\n",
    "    def __init__(self):\n",
    "        pass\n",
    "    \n",
    "    def step_all(self):\n",
    "        pass"
   ]
  },
  {
   "cell_type": "code",
   "execution_count": 25,
   "id": "b73e2724-3db5-46ed-b5ee-e06165b60a17",
   "metadata": {},
   "outputs": [],
   "source": [
    "def _read_graph_from_file(filename=\"ia-infect-dublin/ia-infect-dublin.mtx\"):\n",
    "    fo = open(filename,\"r\")\n",
    "    line = fo.readline() # Read file header\n",
    "    line = fo.readline() # Number of vertices and edges\n",
    "    if not line:\n",
    "        print(\"error -- illegal format for input\")\n",
    "        return\n",
    "    v = line.split(\" \")\n",
    "    numVertices = int(v[0])\n",
    "    G = nx.Graph()\n",
    "    G.add_nodes_from(range(1, numVertices+1))\n",
    "    while True:\n",
    "        line = fo.readline()\n",
    "        if not line:\n",
    "            break\n",
    "        #print(\"Line{}: {}\".format(count,line.strip()))\n",
    "        v = line.split(\" \")\n",
    "        v1 = int(v[0])\n",
    "        v2 = int(v[1])\n",
    "        G.add_edge(v1,v2)\n",
    "        G.add_edge(v2,v1)\n",
    "    fo.close()\n",
    "    return G"
   ]
  }
 ],
 "metadata": {
  "kernelspec": {
   "display_name": "networks",
   "language": "python",
   "name": "networks"
  },
  "language_info": {
   "codemirror_mode": {
    "name": "ipython",
    "version": 3
   },
   "file_extension": ".py",
   "mimetype": "text/x-python",
   "name": "python",
   "nbconvert_exporter": "python",
   "pygments_lexer": "ipython3",
   "version": "3.10.8"
  }
 },
 "nbformat": 4,
 "nbformat_minor": 5
}
